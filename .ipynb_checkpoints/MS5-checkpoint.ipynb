{
 "cells": [
  {
   "cell_type": "code",
   "execution_count": null,
   "id": "ddd83b09",
   "metadata": {},
   "outputs": [],
   "source": []
  },
  {
   "cell_type": "code",
   "execution_count": null,
   "id": "cee42079",
   "metadata": {},
   "outputs": [],
   "source": [
    "import pandas as pd\n",
    "import numpy as np\n",
    "import pickle"
   ]
  },
  {
   "cell_type": "code",
   "execution_count": null,
   "id": "ca42f40c",
   "metadata": {},
   "outputs": [],
   "source": [
    "#df = pd.read_csv(\"data_processed/weather_data_processed.csv\",index_col='DATE')\n",
    "df = pd.read_csv(\"C:/Users/Deep/Desktop/SE/SER 594/Project_structure/data_processed/weather_data_processed.csv\",index_col=\"DATE\")"
   ]
  },
  {
   "cell_type": "code",
   "execution_count": null,
   "id": "41e34ad0",
   "metadata": {},
   "outputs": [],
   "source": [
    "df.apply(pd.isnull).sum()"
   ]
  },
  {
   "cell_type": "code",
   "execution_count": null,
   "id": "d4308586",
   "metadata": {},
   "outputs": [],
   "source": [
    "df"
   ]
  },
  {
   "cell_type": "code",
   "execution_count": null,
   "id": "40e9b255",
   "metadata": {},
   "outputs": [],
   "source": [
    "del df['Snow']"
   ]
  },
  {
   "cell_type": "code",
   "execution_count": null,
   "id": "c96753c2",
   "metadata": {},
   "outputs": [],
   "source": [
    "del df['Snow_depth']"
   ]
  },
  {
   "cell_type": "code",
   "execution_count": null,
   "id": "bc889d6e",
   "metadata": {},
   "outputs": [],
   "source": []
  },
  {
   "cell_type": "code",
   "execution_count": null,
   "id": "bcbfddb2",
   "metadata": {},
   "outputs": [],
   "source": [
    "df[\"target\"] = df.shift(-1)[\"Temp_max\"]"
   ]
  },
  {
   "cell_type": "code",
   "execution_count": null,
   "id": "7b473d17",
   "metadata": {},
   "outputs": [],
   "source": [
    "df"
   ]
  },
  {
   "cell_type": "code",
   "execution_count": null,
   "id": "8383b759",
   "metadata": {},
   "outputs": [],
   "source": []
  },
  {
   "cell_type": "code",
   "execution_count": null,
   "id": "34422312",
   "metadata": {},
   "outputs": [],
   "source": [
    "df = df.iloc[:-1,:].copy()"
   ]
  },
  {
   "cell_type": "code",
   "execution_count": null,
   "id": "d3644ae0",
   "metadata": {},
   "outputs": [],
   "source": [
    "df"
   ]
  },
  {
   "cell_type": "code",
   "execution_count": null,
   "id": "bc3d99fd",
   "metadata": {},
   "outputs": [],
   "source": []
  },
  {
   "cell_type": "code",
   "execution_count": null,
   "id": "47bb402c",
   "metadata": {},
   "outputs": [],
   "source": []
  },
  {
   "cell_type": "code",
   "execution_count": null,
   "id": "6010f079",
   "metadata": {},
   "outputs": [],
   "source": [
    "from sklearn.metrics import mean_squared_error,mean_absolute_error,r2_score"
   ]
  },
  {
   "cell_type": "code",
   "execution_count": null,
   "id": "97952c4a",
   "metadata": {},
   "outputs": [],
   "source": [
    "#LINEAR REGRESSION"
   ]
  },
  {
   "cell_type": "code",
   "execution_count": null,
   "id": "625fd9ea",
   "metadata": {},
   "outputs": [],
   "source": [
    "X= df[[\"Precipitation\", \"Temp_max\", \"Temp_min\"]]\n",
    "Y= df['target']"
   ]
  },
  {
   "cell_type": "code",
   "execution_count": null,
   "id": "2455d280",
   "metadata": {},
   "outputs": [],
   "source": []
  },
  {
   "cell_type": "code",
   "execution_count": null,
   "id": "d4f8dd56",
   "metadata": {},
   "outputs": [],
   "source": []
  },
  {
   "cell_type": "code",
   "execution_count": null,
   "id": "a05764ee",
   "metadata": {},
   "outputs": [],
   "source": []
  },
  {
   "cell_type": "code",
   "execution_count": null,
   "id": "22f0ec22",
   "metadata": {},
   "outputs": [],
   "source": []
  },
  {
   "cell_type": "code",
   "execution_count": null,
   "id": "56435196",
   "metadata": {},
   "outputs": [],
   "source": [
    "y_train"
   ]
  },
  {
   "cell_type": "code",
   "execution_count": null,
   "id": "1576d18c",
   "metadata": {},
   "outputs": [],
   "source": [
    "\n",
    "\n",
    "X= df[[\"Precipitation\", \"Temp_max\", \"Temp_min\"]]\n",
    "Y= df['target']\n",
    "\n",
    "from sklearn.model_selection import train_test_split\n",
    "x_train, x_test,y_train,y_test = train_test_split(X,Y,test_size =0.2)\n",
    "\n",
    "x_train.to_csv('data_processed/x_train.csv')\n",
    "x_test.to_csv('data_processed/x_test.csv')\n",
    "y_train.to_csv('data_processed/y_train.csv')\n",
    "y_test.to_csv('data_processed/y_test.csv')"
   ]
  },
  {
   "cell_type": "code",
   "execution_count": null,
   "id": "51e3baa5",
   "metadata": {},
   "outputs": [],
   "source": []
  },
  {
   "cell_type": "code",
   "execution_count": null,
   "id": "e884a5a2",
   "metadata": {},
   "outputs": [],
   "source": []
  },
  {
   "cell_type": "code",
   "execution_count": null,
   "id": "d408df39",
   "metadata": {},
   "outputs": [],
   "source": []
  },
  {
   "cell_type": "code",
   "execution_count": null,
   "id": "22cae931",
   "metadata": {},
   "outputs": [],
   "source": [
    "def stat_eval(y_test,rp,x):\n",
    "    \n",
    "    file= open(\"evaluation/summary.txt\",\"a\")\n",
    "    if x=='lr':\n",
    "       file.write(\"Evaluation metrics (Linear Regression):\") \n",
    "    elif x=='rr':\n",
    "       file.write(\"Evaluation metrics (Ridge Regression):\") \n",
    "    elif x=='lasso_r':\n",
    "       file.write(\"Evaluation metrics (Lasso Regression):\")  \n",
    "    mse= mean_squared_error(y_test, rp)\n",
    "    file.write('MSE:')\n",
    "    file.write(str(mse))\n",
    "    mae= mean_absolute_error(y_test,rp)\n",
    "    file.write(' MAE:')\n",
    "    file.write(str(mae))\n",
    "    rmse= np.sqrt(mse)\n",
    "    file.write(' RMSE:')\n",
    "    file.write(str(rmse))\n",
    "    file.write(\"\\n\")"
   ]
  },
  {
   "cell_type": "code",
   "execution_count": null,
   "id": "26baaa91",
   "metadata": {},
   "outputs": [],
   "source": [
    "from sklearn.linear_model import LinearRegression\n",
    "lr= LinearRegression()\n",
    "lr.fit(x_train,y_train)\n",
    "lrp= lr.predict(x_test)\n",
    "\n",
    "\n",
    "#lse= stat_eval(y_test,lrp,'lr')\n",
    "\n",
    "\n",
    "pickle.dump(lr, open('models/linear_regression.pkl', 'wb'))"
   ]
  },
  {
   "cell_type": "code",
   "execution_count": null,
   "id": "53d1ce38",
   "metadata": {},
   "outputs": [],
   "source": [
    "x_train"
   ]
  },
  {
   "cell_type": "code",
   "execution_count": null,
   "id": "4283be15",
   "metadata": {},
   "outputs": [],
   "source": [
    "y_test"
   ]
  },
  {
   "cell_type": "code",
   "execution_count": null,
   "id": "0170999f",
   "metadata": {},
   "outputs": [],
   "source": [
    "inp = [6,10,2]\n",
    "lr.predict(np.array([inp]))"
   ]
  },
  {
   "cell_type": "code",
   "execution_count": null,
   "id": "19d5831e",
   "metadata": {},
   "outputs": [],
   "source": [
    "# import pickle\n",
    "# pickle.dump(lr, open('lr.pkl', 'wb'))"
   ]
  },
  {
   "cell_type": "code",
   "execution_count": null,
   "id": "5add345f",
   "metadata": {},
   "outputs": [],
   "source": []
  },
  {
   "cell_type": "code",
   "execution_count": null,
   "id": "1a5b7310",
   "metadata": {},
   "outputs": [],
   "source": []
  },
  {
   "cell_type": "code",
   "execution_count": null,
   "id": "1eb58b45",
   "metadata": {},
   "outputs": [],
   "source": []
  },
  {
   "cell_type": "code",
   "execution_count": null,
   "id": "df7b59aa",
   "metadata": {},
   "outputs": [],
   "source": []
  },
  {
   "cell_type": "code",
   "execution_count": null,
   "id": "4520116c",
   "metadata": {},
   "outputs": [],
   "source": []
  },
  {
   "cell_type": "code",
   "execution_count": null,
   "id": "0bef48af",
   "metadata": {},
   "outputs": [],
   "source": [
    "#RIDGE REGRESSION"
   ]
  },
  {
   "cell_type": "code",
   "execution_count": null,
   "id": "d7099034",
   "metadata": {},
   "outputs": [],
   "source": [
    "Xr= df[[\"Precipitation\", \"Temp_max\", \"Temp_min\"]]\n",
    "Yr= df['target']\n",
    "from sklearn.model_selection import train_test_split\n",
    "x_train, x_test,y_train,y_test = train_test_split(Xr,Yr,test_size =0.2)\n",
    "\n",
    "from sklearn.linear_model import Ridge\n",
    "rr= Ridge(alpha=0.1)\n",
    "rr.fit(x_train,y_train)\n",
    "rrp= rr.predict(x_test)\n",
    "\n",
    "\n",
    "rse= stat_eval(y_test,rrp,'rr')\n",
    "\n",
    "pickle.dump(rr, open('models/ridge_regression.pkl', 'wb'))\n",
    "# #\n",
    "# print(\"Evaluation metrics (Ridge Regression):\")\n",
    "# mse= mean_squared_error(y_test, rrp)\n",
    "# print('MSE:',mse)\n",
    "# mae= mean_absolute_error(y_test,rrp)\n",
    "# print('MAE:',mae)\n",
    "# rmse= np.sqrt(mse)\n",
    "# print('RMSE:',rmse)\n",
    "# print()\n",
    "# import pickle\n",
    "# pickle.dump(lr, open('lr.pkl', 'wb'))"
   ]
  },
  {
   "cell_type": "code",
   "execution_count": null,
   "id": "86971ac0",
   "metadata": {},
   "outputs": [],
   "source": [
    "stat_eval(y_test,rrp)"
   ]
  },
  {
   "cell_type": "code",
   "execution_count": null,
   "id": "24444f5d",
   "metadata": {},
   "outputs": [],
   "source": [
    "Xr= df[[\"Precipitation\", \"Temp_max\", \"Temp_min\"]]\n",
    "Yr= df['target']"
   ]
  },
  {
   "cell_type": "code",
   "execution_count": null,
   "id": "bd4be1fb",
   "metadata": {},
   "outputs": [],
   "source": [
    "from sklearn.model_selection import train_test_split\n",
    "x_train, x_test,y_train,y_test = train_test_split(Xr,Yr,test_size =0.2)\n"
   ]
  },
  {
   "cell_type": "code",
   "execution_count": null,
   "id": "ad92b301",
   "metadata": {},
   "outputs": [],
   "source": []
  },
  {
   "cell_type": "code",
   "execution_count": null,
   "id": "20cc5150",
   "metadata": {},
   "outputs": [],
   "source": []
  },
  {
   "cell_type": "code",
   "execution_count": null,
   "id": "89b32604",
   "metadata": {},
   "outputs": [],
   "source": []
  },
  {
   "cell_type": "code",
   "execution_count": null,
   "id": "631d11e0",
   "metadata": {},
   "outputs": [],
   "source": []
  },
  {
   "cell_type": "code",
   "execution_count": null,
   "id": "8d59c086",
   "metadata": {},
   "outputs": [],
   "source": []
  },
  {
   "cell_type": "code",
   "execution_count": null,
   "id": "505c14cc",
   "metadata": {},
   "outputs": [],
   "source": [
    "#LASSO "
   ]
  },
  {
   "cell_type": "code",
   "execution_count": null,
   "id": "82c25215",
   "metadata": {},
   "outputs": [],
   "source": [
    "Xl= df[[\"Precipitation\", \"Temp_max\", \"Temp_min\"]]\n",
    "Yl= df['target']\n",
    "\n",
    "from sklearn.model_selection import train_test_split\n",
    "x_train, x_test,y_train,y_test = train_test_split(Xl,Yl,test_size =0.2)\n",
    "\n",
    "from sklearn.linear_model import Lasso\n",
    "lasso_r= Lasso(alpha=0.1)\n",
    "lasso_r.fit(x_train,y_train)\n",
    "larp= lasso_r.predict(x_test)\n",
    "\n",
    "lasse= stat_eval(y_test,larp,'lasso_r')\n",
    "\n",
    "pickle.dump(lasso_r, open('models/lasso_regression.pkl', 'wb'))\n",
    "#\n",
    "# print(\"Evaluation metrics (Lasso Regression):\")\n",
    "# mse= mean_squared_error(y_test, larp)\n",
    "# print('MSE:',mse)\n",
    "# mae= mean_absolute_error(y_test,larp)\n",
    "# print('MAE:',mae)\n",
    "# rmse= np.sqrt(mse)\n",
    "# print('RMSE:',rmse)\n",
    "# print()"
   ]
  },
  {
   "cell_type": "code",
   "execution_count": null,
   "id": "68bb3ab4",
   "metadata": {},
   "outputs": [],
   "source": []
  },
  {
   "cell_type": "code",
   "execution_count": null,
   "id": "8b949da4",
   "metadata": {},
   "outputs": [],
   "source": []
  },
  {
   "cell_type": "code",
   "execution_count": null,
   "id": "4820a7a4",
   "metadata": {},
   "outputs": [],
   "source": [
    "Xl= df[[\"Precipitation\", \"Temp_max\", \"Temp_min\"]]\n",
    "Yl= df['target']"
   ]
  },
  {
   "cell_type": "code",
   "execution_count": null,
   "id": "7566b6aa",
   "metadata": {},
   "outputs": [],
   "source": [
    "from sklearn.model_selection import train_test_split\n",
    "x_train, x_test,y_train,y_test = train_test_split(Xl,Yl,test_size =0.2)\n"
   ]
  },
  {
   "cell_type": "code",
   "execution_count": null,
   "id": "67b85919",
   "metadata": {},
   "outputs": [],
   "source": [
    "from sklearn.linear_model import Lasso\n",
    "lasso_r= Lasso(alpha=0.1)"
   ]
  },
  {
   "cell_type": "code",
   "execution_count": null,
   "id": "ff9a9102",
   "metadata": {},
   "outputs": [],
   "source": [
    "lasso_r.fit(x_train,y_train)"
   ]
  },
  {
   "cell_type": "code",
   "execution_count": null,
   "id": "6d2f3465",
   "metadata": {},
   "outputs": [],
   "source": [
    "larp= lasso_r.predict(x_test)"
   ]
  },
  {
   "cell_type": "code",
   "execution_count": null,
   "id": "828ce7eb",
   "metadata": {},
   "outputs": [],
   "source": [
    "lasso_r.score(x_test,y_test) #r square"
   ]
  },
  {
   "cell_type": "code",
   "execution_count": null,
   "id": "fea37da9",
   "metadata": {},
   "outputs": [],
   "source": [
    "mean_squared_error(y_test, larp)"
   ]
  },
  {
   "cell_type": "code",
   "execution_count": null,
   "id": "c3020ac1",
   "metadata": {},
   "outputs": [],
   "source": [
    "mean_absolute_error(y_test,larp)"
   ]
  },
  {
   "cell_type": "code",
   "execution_count": null,
   "id": "c5fbdaca",
   "metadata": {},
   "outputs": [],
   "source": []
  },
  {
   "cell_type": "code",
   "execution_count": null,
   "id": "25c4e46f",
   "metadata": {},
   "outputs": [],
   "source": []
  },
  {
   "cell_type": "code",
   "execution_count": null,
   "id": "44c8d9be",
   "metadata": {},
   "outputs": [],
   "source": [
    "#core\n",
    "#!/usr/bin/python\n",
    "import wf_dataprocessing, wf_visualization\n"
   ]
  },
  {
   "cell_type": "code",
   "execution_count": 14,
   "id": "9b77572b",
   "metadata": {},
   "outputs": [],
   "source": [
    "#Evaluation\n",
    "import pandas as pd\n",
    "import numpy as np\n",
    "import pickle\n",
    "from sklearn.model_selection import train_test_split\n",
    "from sklearn.metrics import mean_squared_error,mean_absolute_error,r2_score\n",
    "from sklearn.linear_model import LinearRegression\n",
    "from sklearn.linear_model import Lasso\n",
    "from sklearn.linear_model import Ridge\n",
    "#!/usr/bin/python\n",
    "import wf_ml_training, wf_ml_prediction\n",
    "\n",
    "df = pd.read_csv(\"data_processed/weather_data_processed.csv\",index_col='DATE')\n",
    "\n",
    "del df['Snow']\n",
    "del df['Snow_depth']\n",
    "df[\"target\"] = df.shift(-1)[\"Temp_max\"]\n",
    "df = df.iloc[:-1,:].copy()\n",
    "\n",
    "X= df[[\"Precipitation\", \"Temp_max\", \"Temp_min\"]]\n",
    "Y= df['target']\n",
    "x_train, x_test,y_train,y_test = train_test_split(X,Y,test_size =0.2)\n",
    "\n",
    "x_train.to_csv('data_processed/x_train.csv')\n",
    "x_test.to_csv('data_processed/x_test.csv')\n",
    "y_train.to_csv('data_processed/y_train.csv')\n",
    "y_test.to_csv('data_processed/y_test.csv')\n",
    "x_train.to_csv('models/x_train.csv')\n",
    "x_test.to_csv('models/x_test.csv')\n",
    "y_train.to_csv('models/y_train.csv')\n",
    "y_test.to_csv('models/y_test.csv')\n",
    "\n",
    "lr= LinearRegression()\n",
    "# lr.fit(x_train,y_train)\n",
    "# lrp= lr.predict(x_test)\n",
    "\n",
    "l_mse= mean_squared_error(y_test, lrp)\n",
    "l_mae= mean_absolute_error(y_test,lrp)\n",
    "l_rmse= np.sqrt(l_mse)\n",
    "\n",
    "\n",
    "\n",
    "# pickle.dump(lr, open('models/linear_regression.pkl', 'wb'))\n",
    "\n",
    "Xr= df[[\"Precipitation\", \"Temp_max\", \"Temp_min\"]]\n",
    "Yr= df['target']\n",
    "x_train, x_test,y_train,y_test = train_test_split(Xr,Yr,test_size =0.2)\n",
    "\n",
    "\n",
    "rr= Ridge(alpha=0.01)\n",
    "# rr.fit(x_train,y_train)\n",
    "# rrp= rr.predict(x_test)\n",
    "\n",
    "r_mse= mean_squared_error(y_test, rrp)\n",
    "r_mae= mean_absolute_error(y_test,rrp)\n",
    "r_rmse= np.sqrt(r_mse)\n",
    "\n",
    "\n",
    "# pickle.dump(rr, open('models/ridge_regression.pkl', 'wb'))\n",
    "\n",
    "\n",
    "Xl= df[[\"Precipitation\", \"Temp_max\", \"Temp_min\"]]\n",
    "Yl= df['target']\n",
    "x_train, x_test,y_train,y_test = train_test_split(Xl,Yl,test_size =0.2)\n",
    "\n",
    "\n",
    "lasso_r= Lasso(alpha=0.1)\n",
    "# lasso_r.fit(x_train,y_train)\n",
    "# larp= lasso_r.predict(x_test)\n",
    "\n",
    "la_mse= mean_squared_error(y_test, larp)\n",
    "la_mae= mean_absolute_error(y_test,larp)\n",
    "la_rmse= np.sqrt(la_mse)\n",
    "\n",
    "\n",
    "\n",
    "with open(\"evaluation/summary.txt\", \"w\") as f:\n",
    "        f.write(\"LinearRegression: \")\n",
    "        \n",
    "        f.write(\"MSE: \")\n",
    "        f.write(str(l_mse))\n",
    "        f.write(' MAE:')\n",
    "        f.write(str(l_mae))\n",
    "        f.write(' RMSE:')\n",
    "        f.write(str(l_rmse))\n",
    "        f.write(\"\\n\")\n",
    "        \n",
    "        f.write(\"Ridge Regression: \")\n",
    "        \n",
    "        f.write(\"MSE: \")\n",
    "        f.write(str(r_mse))\n",
    "        f.write(' MAE:')\n",
    "        f.write(str(r_mae))\n",
    "        f.write(' RMSE:')\n",
    "        f.write(str(r_rmse))\n",
    "        f.write(\"\\n\")\n",
    "\n",
    "        f.write(\"LASSO Regression: \")\n",
    "\n",
    "        f.write(\"MSE: \")\n",
    "        f.write(str(la_mse))\n",
    "        f.write(' MAE:')\n",
    "        f.write(str(la_mae))\n",
    "        f.write(' RMSE:')\n",
    "        f.write(str(la_rmse))\n",
    "        f.write(\"\\n\")\n",
    "\n",
    "\n",
    "# pickle.dump(lasso_r, open('models/lasso_regression.pkl', 'wb'))"
   ]
  },
  {
   "cell_type": "code",
   "execution_count": null,
   "id": "c7782c0d",
   "metadata": {},
   "outputs": [],
   "source": []
  },
  {
   "cell_type": "code",
   "execution_count": null,
   "id": "04b2a098",
   "metadata": {},
   "outputs": [],
   "source": []
  },
  {
   "cell_type": "code",
   "execution_count": null,
   "id": "6c505d92",
   "metadata": {},
   "outputs": [],
   "source": []
  },
  {
   "cell_type": "code",
   "execution_count": 5,
   "id": "7f20f6d5",
   "metadata": {},
   "outputs": [],
   "source": [
    "#TRAINING\n",
    "import pandas as pd\n",
    "import numpy as np\n",
    "import pickle\n",
    "from sklearn.model_selection import train_test_split\n",
    "from sklearn.metrics import mean_squared_error,mean_absolute_error,r2_score\n",
    "from sklearn.linear_model import LinearRegression\n",
    "from sklearn.linear_model import Lasso\n",
    "from sklearn.linear_model import Ridge\n",
    "\n",
    "# df = pd.read_csv(\"data_processed/weather_data_processed.csv\",index_col='DATE')\n",
    "\n",
    "# del df['Snow']\n",
    "# del df['Snow_depth']\n",
    "# df[\"target\"] = df.shift(-1)[\"Temp_max\"]\n",
    "# df = df.iloc[:-1,:].copy()\n",
    "\n",
    "# X= df[[\"Precipitation\", \"Temp_max\", \"Temp_min\"]]\n",
    "# Y= df['target']\n",
    "# x_train, x_test,y_train,y_test = train_test_split(X,Y,test_size =0.2)\n",
    "\n",
    "# x_train.to_csv('data_processed/x_train.csv')\n",
    "# x_test.to_csv('data_processed/x_test.csv')\n",
    "# y_train.to_csv('data_processed/y_train.csv')\n",
    "# y_test.to_csv('data_processed/y_test.csv')\n",
    "\n",
    "x_train = pd.read_csv(\"data_processed/x_train.csv\",index_col='DATE')\n",
    "x_test = pd.read_csv(\"data_processed/x_test.csv\",index_col='DATE')\n",
    "y_train = pd.read_csv(\"data_processed/y_train.csv\",index_col='DATE')\n",
    "y_test = pd.read_csv(\"data_processed/y_test.csv\",index_col='DATE')\n",
    "\n",
    "lr= LinearRegression()\n",
    "lr.fit(x_train,y_train)\n",
    "lrp= lr.predict(x_test)\n",
    "\n",
    "l_mse= mean_squared_error(y_test, lrp)\n",
    "l_mae= mean_absolute_error(y_test,lrp)\n",
    "l_rmse= np.sqrt(l_mse)\n",
    "\n",
    "\n",
    "\n",
    "pickle.dump(lr, open('models/linear_regression.pkl', 'wb'))\n",
    "\n",
    "# Xr= df[[\"Precipitation\", \"Temp_max\", \"Temp_min\"]]\n",
    "# Yr= df['target']\n",
    "# x_train, x_test,y_train,y_test = train_test_split(Xr,Yr,test_size =0.2)\n",
    "\n",
    "\n",
    "rr= Ridge(alpha=0.01)\n",
    "rr.fit(x_train,y_train)\n",
    "rrp= rr.predict(x_test)\n",
    "\n",
    "r_mse= mean_squared_error(y_test, rrp)\n",
    "r_mae= mean_absolute_error(y_test,rrp)\n",
    "r_rmse= np.sqrt(r_mse)\n",
    "\n",
    "\n",
    "pickle.dump(rr, open('models/ridge_regression.pkl', 'wb'))\n",
    "\n",
    "\n",
    "# Xl= df[[\"Precipitation\", \"Temp_max\", \"Temp_min\"]]\n",
    "# Yl= df['target']\n",
    "# x_train, x_test,y_train,y_test = train_test_split(Xl,Yl,test_size =0.2)\n",
    "\n",
    "\n",
    "lasso_r= Lasso(alpha=0.1)\n",
    "lasso_r.fit(x_train,y_train)\n",
    "larp= lasso_r.predict(x_test)\n",
    "\n",
    "la_mse= mean_squared_error(y_test, larp)\n",
    "la_mae= mean_absolute_error(y_test,larp)\n",
    "la_rmse= np.sqrt(la_mse)\n",
    "\n",
    "\n",
    "\n",
    "# with open(\"evaluation/summary.txt\", \"w\") as f:\n",
    "#         f.write(\"LinearRegression: \")\n",
    "        \n",
    "#         f.write(\"MSE: \")\n",
    "#         f.write(str(l_mse))\n",
    "#         f.write(' MAE:')\n",
    "#         f.write(str(l_mae))\n",
    "#         f.write(' RMSE:')\n",
    "#         f.write(str(l_rmse))\n",
    "#         f.write(\"\\n\")\n",
    "        \n",
    "#         f.write(\"Ridge Regression: \")\n",
    "        \n",
    "#         f.write(\"MSE: \")\n",
    "#         f.write(str(r_mse))\n",
    "#         f.write(' MAE:')\n",
    "#         f.write(str(r_mae))\n",
    "#         f.write(' RMSE:')\n",
    "#         f.write(str(r_rmse))\n",
    "#         f.write(\"\\n\")\n",
    "\n",
    "#         f.write(\"LASSO Regression: \")\n",
    "\n",
    "#         f.write(\"MSE: \")\n",
    "#         f.write(str(la_mse))\n",
    "#         f.write(' MAE:')\n",
    "#         f.write(str(la_mae))\n",
    "#         f.write(' RMSE:')\n",
    "#         f.write(str(la_rmse))\n",
    "#         f.write(\"\\n\")\n",
    "\n",
    "\n",
    "pickle.dump(lasso_r, open('models/lasso_regression.pkl', 'wb'))"
   ]
  },
  {
   "cell_type": "code",
   "execution_count": null,
   "id": "a9331a3c",
   "metadata": {},
   "outputs": [],
   "source": []
  },
  {
   "cell_type": "code",
   "execution_count": 13,
   "id": "796d64f2",
   "metadata": {},
   "outputs": [
    {
     "name": "stdout",
     "output_type": "stream",
     "text": [
      "(Linear Regression) Prediction on test set: [ 79.69893394 103.50148962  64.55939881 ... 101.72877251  73.40624662\n",
      "  77.52484482]\n",
      "(Ridge Regression) Prediction on test set: [ 79.67881466 103.48601443  64.50874282 ... 101.75301051  73.39393294\n",
      "  77.50049818]\n",
      "(Lasso Regression) Prediction on test set: [ 79.7135452  103.42138726  64.4017443  ... 101.79161845  73.36000054\n",
      "  77.43259849]\n"
     ]
    }
   ],
   "source": [
    "#Prediction\n",
    "import pickle\n",
    "import pandas as pd\n",
    "\n",
    "\n",
    "linear_reg= pickle.load(open(\"models/linear_regression.pkl\",\"rb\"))\n",
    "ridge_reg= pickle.load(open(\"models/ridge_regression.pkl\",\"rb\"))\n",
    "lasso_reg= pickle.load(open(\"models/lasso_regression.pkl\",\"rb\"))\n",
    "x_test = pd.read_csv(\"models/x_test.csv\",index_col='DATE')\n",
    "# y_test = pd.read_csv(\"models/y_test.csv\",index_col='DATE')\n",
    "\n",
    "lr= linear_reg.predict(x_test)\n",
    "rr= ridge_reg.predict(x_test)\n",
    "lar= lasso_reg.predict(x_test)\n",
    "print(\"(Linear Regression) Prediction on test set:\",lr)\n",
    "print(\"(Ridge Regression) Prediction on test set:\",rr)\n",
    "print(\"(Lasso Regression) Prediction on test set:\",lar)"
   ]
  },
  {
   "cell_type": "code",
   "execution_count": null,
   "id": "c9eb7930",
   "metadata": {},
   "outputs": [],
   "source": []
  },
  {
   "cell_type": "code",
   "execution_count": null,
   "id": "a8184cc3",
   "metadata": {},
   "outputs": [],
   "source": []
  },
  {
   "cell_type": "code",
   "execution_count": null,
   "id": "daf858a3",
   "metadata": {},
   "outputs": [],
   "source": []
  },
  {
   "cell_type": "code",
   "execution_count": null,
   "id": "267acbc3",
   "metadata": {},
   "outputs": [],
   "source": []
  },
  {
   "cell_type": "code",
   "execution_count": null,
   "id": "5279ed2e",
   "metadata": {},
   "outputs": [],
   "source": []
  },
  {
   "cell_type": "code",
   "execution_count": null,
   "id": "6704426a",
   "metadata": {},
   "outputs": [],
   "source": [
    "from sklearn.linear_model import Ridge\n",
    "\n",
    "reg = Ridge(alpha=.1)"
   ]
  },
  {
   "cell_type": "code",
   "execution_count": null,
   "id": "6126ea6b",
   "metadata": {},
   "outputs": [],
   "source": [
    "predictors = [\"Precipitation\", \"Temp_max\", \"Temp_min\"]\n",
    "train = df.loc[:\"2020-12-31\"]\n",
    "test = df.loc[\"2021-01-01\":]"
   ]
  },
  {
   "cell_type": "code",
   "execution_count": null,
   "id": "f54d7968",
   "metadata": {},
   "outputs": [],
   "source": [
    "train"
   ]
  },
  {
   "cell_type": "code",
   "execution_count": null,
   "id": "a844d8f7",
   "metadata": {},
   "outputs": [],
   "source": [
    "test"
   ]
  },
  {
   "cell_type": "code",
   "execution_count": null,
   "id": "071e5e3c",
   "metadata": {},
   "outputs": [],
   "source": [
    "reg.fit(train[predictors], train[\"target\"])\n",
    "\n"
   ]
  },
  {
   "cell_type": "code",
   "execution_count": null,
   "id": "d7339106",
   "metadata": {},
   "outputs": [],
   "source": [
    "predictions = reg.predict(test[predictors])\n"
   ]
  },
  {
   "cell_type": "code",
   "execution_count": null,
   "id": "26e006d0",
   "metadata": {},
   "outputs": [],
   "source": [
    "from sklearn.metrics import mean_squared_error,mean_absolute_error\n",
    "\n",
    "mean_squared_error(test[\"target\"], predictions)\n",
    "\n"
   ]
  },
  {
   "cell_type": "code",
   "execution_count": null,
   "id": "db33c939",
   "metadata": {},
   "outputs": [],
   "source": [
    "mean_absolute_error(test[\"target\"], predictions)"
   ]
  },
  {
   "cell_type": "code",
   "execution_count": null,
   "id": "8484882c",
   "metadata": {},
   "outputs": [],
   "source": [
    "combined = pd.concat([test[\"target\"], pd.Series(predictions, index=test.index)], axis=1)\n",
    "combined.columns = [\"actual\", \"predictions\"]"
   ]
  },
  {
   "cell_type": "code",
   "execution_count": null,
   "id": "ed2ab8d4",
   "metadata": {},
   "outputs": [],
   "source": [
    "combined"
   ]
  },
  {
   "cell_type": "code",
   "execution_count": null,
   "id": "4edfc70e",
   "metadata": {},
   "outputs": [],
   "source": [
    "combined.plot(figsize=(10,10))"
   ]
  },
  {
   "cell_type": "code",
   "execution_count": null,
   "id": "8a519a15",
   "metadata": {},
   "outputs": [],
   "source": [
    "reg.coef_"
   ]
  },
  {
   "cell_type": "code",
   "execution_count": null,
   "id": "7f1405b9",
   "metadata": {},
   "outputs": [],
   "source": [
    "df[\"month_max\"] = df[\"Temp_max\"].rolling(30).mean()\n",
    "\n",
    "df[\"month_day_max\"] = df[\"month_max\"] / df[\"Temp_max\"]\n",
    "\n",
    "df[\"max_min\"] = df[\"Temp_max\"] / df[\"Temp_min\"]"
   ]
  },
  {
   "cell_type": "code",
   "execution_count": null,
   "id": "805414fd",
   "metadata": {},
   "outputs": [],
   "source": [
    "df"
   ]
  },
  {
   "cell_type": "code",
   "execution_count": null,
   "id": "9a247be7",
   "metadata": {},
   "outputs": [],
   "source": [
    "df = df.iloc[30:,:].copy()"
   ]
  },
  {
   "cell_type": "code",
   "execution_count": null,
   "id": "338ebf86",
   "metadata": {},
   "outputs": [],
   "source": [
    "def create_predictions(predictors, df, reg):\n",
    "    train = df.loc[:\"2020-12-31\"]\n",
    "    test = df.loc[\"2021-01-01\":]\n",
    "\n",
    "    reg.fit(train[predictors], train[\"target\"])\n",
    "    predictions = reg.predict(test[predictors])\n",
    "\n",
    "    error = mean_squared_error(test[\"target\"], predictions)\n",
    "    \n",
    "    combined = pd.concat([test[\"target\"], pd.Series(predictions, index=test.index)], axis=1)\n",
    "    combined.columns = [\"actual\", \"predictions\"]\n",
    "    return error, combined"
   ]
  },
  {
   "cell_type": "code",
   "execution_count": null,
   "id": "09347603",
   "metadata": {},
   "outputs": [],
   "source": [
    "predictors = [\"Precipitation\", \"Temp_max\", \"Temp_min\", \"month_day_max\", \"max_min\"]\n",
    "\n",
    "error, combined = create_predictions(predictors, df, reg)\n",
    "error"
   ]
  },
  {
   "cell_type": "code",
   "execution_count": null,
   "id": "8e1d93ff",
   "metadata": {},
   "outputs": [],
   "source": [
    "combined.plot(figsize=(10,10))"
   ]
  },
  {
   "cell_type": "code",
   "execution_count": null,
   "id": "37d6187a",
   "metadata": {},
   "outputs": [],
   "source": [
    "df.corr()[\"target\"]"
   ]
  },
  {
   "cell_type": "code",
   "execution_count": null,
   "id": "875e73ac",
   "metadata": {},
   "outputs": [],
   "source": [
    "combined"
   ]
  },
  {
   "cell_type": "code",
   "execution_count": null,
   "id": "f74c3567",
   "metadata": {},
   "outputs": [],
   "source": [
    "combined[\"diff\"] = (combined[\"actual\"] - combined[\"predictions\"]).abs()\n",
    "combined.sort_values(\"diff\", ascending=False).head(20)"
   ]
  },
  {
   "cell_type": "code",
   "execution_count": null,
   "id": "e116763b",
   "metadata": {},
   "outputs": [],
   "source": []
  },
  {
   "cell_type": "code",
   "execution_count": null,
   "id": "e5b5309f",
   "metadata": {},
   "outputs": [],
   "source": []
  },
  {
   "cell_type": "code",
   "execution_count": null,
   "id": "43beaa06",
   "metadata": {},
   "outputs": [],
   "source": []
  }
 ],
 "metadata": {
  "kernelspec": {
   "display_name": "Python 3 (ipykernel)",
   "language": "python",
   "name": "python3"
  },
  "language_info": {
   "codemirror_mode": {
    "name": "ipython",
    "version": 3
   },
   "file_extension": ".py",
   "mimetype": "text/x-python",
   "name": "python",
   "nbconvert_exporter": "python",
   "pygments_lexer": "ipython3",
   "version": "3.9.7"
  }
 },
 "nbformat": 4,
 "nbformat_minor": 5
}
